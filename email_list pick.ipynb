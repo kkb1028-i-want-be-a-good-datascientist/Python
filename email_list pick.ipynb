{
 "cells": [
  {
   "cell_type": "code",
   "execution_count": 3,
   "metadata": {},
   "outputs": [],
   "source": [
    "import re"
   ]
  },
  {
   "cell_type": "code",
   "execution_count": 11,
   "metadata": {},
   "outputs": [],
   "source": [
    "def getEmailList(filename):\n",
    "    fp = open(filename, encoding='utf-8')\n",
    "    text = fp.read()\n",
    "    fp.close\n",
    "    \n",
    "    regex = \"\\w+@\\w+\\.\\w+\"\n",
    "# '0\n",
    "    pattern = re.compile(regex)\n",
    "    result = pattern.findall(text)\n",
    "    result = sorted(set(result))\n",
    "    email_cnt = len(result)\n",
    "    print(result)\n",
    "    \n",
    "    valid_email_end = ['com', 'gov', 'co.kr', 'net']\n",
    "    \n",
    "    if email_cnt > 0:\n",
    "        ret_msg = '{}건의 이메일이 수집되었습니다.'.format(email_cnt)\n",
    "        \n",
    "        #저장\n",
    "        email_list=''\n",
    "        for each in result:\n",
    "            temp = each.split('.')\n",
    "            if temp[-1] in valid_email_end:\n",
    "                email_list += each + '\\n'\n",
    "                \n",
    "        fp = open('./data/mail_list.txt', 'w', encoding='utf-8')\n",
    "        fp.write(email_list)\n",
    "        fp.close()\n",
    "    else:\n",
    "        ret_msg = '이메일을 수집하지 못하였습니다.'\n",
    "    \n",
    "    return ret_msg"
   ]
  },
  {
   "cell_type": "code",
   "execution_count": 12,
   "metadata": {},
   "outputs": [
    {
     "name": "stdout",
     "output_type": "stream",
     "text": [
      "['11@state.govi', '1@state.gov', 'AbedinH@state.gov', 'AbedinH@state.goy', 'Abedinfi@state.gov', 'H0R22@clintonemail.com', 'H0R22@clintonemail.corni', 'HDR22@clintonemail.com', 'HDR22@clintonemail.comj', 'HDR22@clintonemail.coml', 'HDR22@clintonemail.corn', 'HDR22@clintonemall.com', 'HDR22@clintonernail.com', 'HDR22@clintonernail.corn', 'HanleyMR@state.gov', 'HanleyiVIR@state.govj', 'Huma@clintonernail.com', 'Hurna@clintonemaii.com', 'Hurna@clintonernail.corn', 'Ihdr22@clintonernail.com', 'KohliFf@state.gov', 'MarshalICP@state.gov', 'MillsCD@state.gov', 'OpsNewsTicker@state.gov', 'Russoiv@state.gov', 'Russorv@state.gov', 'Russorv@state.gov째', 'ShermanWR@state.gov', 'Suilivanii@state.gov', 'Sullivan11@state.gov', 'Sullivan33@state.gov', 'SullivanAt@state.gov', 'SullivanJJ@state.gov', 'SullivanJJ@state.govj', 'Sullivanii@state.gov', 'Sullivanii@state.govj', 'Sullivanil@state.gov', 'Sullivann@state.gov', 'Sullivarill@state.gov', 'abedinh@state.gov', 'esullivanjj@state.gov', 'gll@state.gov', 'hdr22@clintonemail.corn', 'hrod17@clintonemail.com', 'hrod17@clintonemail.corn', 'hrod17@clintonernaii.com', 'hrod17@clintonernail.com', 'hrod17@clintoriernail.corn', 'hrodl7@clintonemaii.com', 'huma@clintonemail.com', 'idr22@dintonemail.com', 'mailtoTaclips@state.govl', 'millscd@state.gov', 'paclips@state.gov', 'snipead@state.gov', 'sullivahu@state.gov', 'sullivanjj@state.gov', 'thecable@foreignpolicy.com', '째Russont@state.gov째', '째Russorv@state.gov', '퉄ullivann@state.gov']\n"
     ]
    },
    {
     "data": {
      "text/plain": [
       "'61건의 이메일이 수집되었습니다.'"
      ]
     },
     "execution_count": 12,
     "metadata": {},
     "output_type": "execute_result"
    }
   ],
   "source": [
    "filename = './data/sample_emails.txt'\n",
    "getEmailList(filename)"
   ]
  },
  {
   "cell_type": "code",
   "execution_count": null,
   "metadata": {},
   "outputs": [],
   "source": []
  }
 ],
 "metadata": {
  "kernelspec": {
   "display_name": "Python 3",
   "language": "python",
   "name": "python3"
  },
  "language_info": {
   "codemirror_mode": {
    "name": "ipython",
    "version": 3
   },
   "file_extension": ".py",
   "mimetype": "text/x-python",
   "name": "python",
   "nbconvert_exporter": "python",
   "pygments_lexer": "ipython3",
   "version": "3.7.3"
  }
 },
 "nbformat": 4,
 "nbformat_minor": 2
}
