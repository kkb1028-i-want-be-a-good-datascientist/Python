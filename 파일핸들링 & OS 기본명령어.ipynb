{
 "cells": [
  {
   "cell_type": "code",
   "execution_count": 87,
   "metadata": {},
   "outputs": [],
   "source": [
    "def write_txt(filepath):\n",
    "    #텍스트 파일에 한줄식 쓰기\n",
    "    count=1\n",
    "    data=[]\n",
    "    print('파일에 내용을 저장하려면 내용을 입력하지 말고 [Enter]키를 누르세요.')\n",
    "    \n",
    "    while True:\n",
    "        text = input('[%d] 파일에 저장할 내용을 입력하세요: ' % count)\n",
    "        if text == '':\n",
    "            break\n",
    "        data.append(text+'Wn')\n",
    "        count += 1\n",
    "                    \n",
    "    f = open(filepath, 'w')\n",
    "    f.writelines(data)\n",
    "    f.close\n",
    "                    \n",
    "    ret = 'TEXT 파일을 생성하였습니다.'\n",
    "                    \n",
    "    return ret"
   ]
  },
  {
   "cell_type": "code",
   "execution_count": 88,
   "metadata": {},
   "outputs": [
    {
     "name": "stdout",
     "output_type": "stream",
     "text": [
      "파일에 내용을 저장하려면 내용을 입력하지 말고 [Enter]키를 누르세요.\n",
      "[1] 파일에 저장할 내용을 입력하세요: ㅇㅇ\n",
      "[2] 파일에 저장할 내용을 입력하세요: ㅇㅇㄹㄹ\n",
      "[3] 파일에 저장할 내용을 입력하세요: ㄴㅇㅇㄹ\n",
      "[4] 파일에 저장할 내용을 입력하세요: ㅁ\n",
      "[5] 파일에 저장할 내용을 입력하세요: \n"
     ]
    },
    {
     "data": {
      "text/plain": [
       "'TEXT 파일을 생성하였습니다.'"
      ]
     },
     "execution_count": 88,
     "metadata": {},
     "output_type": "execute_result"
    }
   ],
   "source": [
    "filepath = './data/mydata.txt'\n",
    "write_txt(filepath)"
   ]
  },
  {
   "cell_type": "code",
   "execution_count": 89,
   "metadata": {},
   "outputs": [
    {
     "name": "stdout",
     "output_type": "stream",
     "text": [
      "ㅇㅇWnㅇㅇㄹㄹWnㄴㅇㅇㄹWnㅁWn\n"
     ]
    }
   ],
   "source": [
    "f = open(filepath, 'r')\n",
    "data = f.read()\n",
    "f.close()\n",
    "\n",
    "print(data)"
   ]
  },
  {
   "cell_type": "code",
   "execution_count": 90,
   "metadata": {},
   "outputs": [],
   "source": [
    "#텍스트 파일 복사하기(read, write)\n",
    "f = open('./data/mydata.txt', 'r')\n",
    "h = open('./data/mydata_copy.txt', 'w')\n",
    "         \n",
    "data = f.read()\n",
    "h.write(data)\n",
    "\n",
    "h.close()\n",
    "f.close()"
   ]
  },
  {
   "cell_type": "code",
   "execution_count": 91,
   "metadata": {},
   "outputs": [
    {
     "name": "stdout",
     "output_type": "stream",
     "text": [
      "ㅇㅇWnㅇㅇㄹㄹWnㄴㅇㅇㄹWnㅁWn\n"
     ]
    }
   ],
   "source": [
    "with open('./data/mydata_copy.txt', 'r') as fp:\n",
    "    data = fp.read()\n",
    "    print(data)"
   ]
  },
  {
   "cell_type": "code",
   "execution_count": 92,
   "metadata": {},
   "outputs": [],
   "source": [
    "from IPython.display import Image\n",
    "\n",
    "origin_img = './data/bpc_logo.jpg'\n",
    "copied_img = './data/bpc_logo_copy.jpg'"
   ]
  },
  {
   "cell_type": "code",
   "execution_count": 93,
   "metadata": {},
   "outputs": [
    {
     "data": {
      "image/jpeg": "[encoded data removed]",
      "text/plain": [
       "<IPython.core.display.Image object>"
      ]
     },
     "execution_count": 93,
     "metadata": {},
     "output_type": "execute_result"
    }
   ],
   "source": [
    "Image(origin_img)"
   ]
  },
  {
   "cell_type": "code",
   "execution_count": 110,
   "metadata": {},
   "outputs": [],
   "source": [
    "# 바이너리 파일 복사하기(read, write)\n",
    "bufsize = 1024\n",
    "f = open(origin_img, 'rb')\n",
    "h = open(copied_img, 'wb')\n",
    "\n",
    "data = f.read(bufsize)\n",
    "while data:\n",
    "    h.write(data)\n",
    "    data = f.read(bufsize)\n",
    "\n",
    "h.close()\n",
    "f.close()"
   ]
  },
  {
   "cell_type": "code",
   "execution_count": 111,
   "metadata": {},
   "outputs": [
    {
     "data": {
      "image/jpeg": "[encoded data removed]",
      "text/plain": [
       "<IPython.core.display.Image object>"
      ]
     },
     "execution_count": 111,
     "metadata": {},
     "output_type": "execute_result"
    }
   ],
   "source": [
    "Image(copied_img)"
   ]
  },
  {
   "cell_type": "code",
   "execution_count": 74,
   "metadata": {},
   "outputs": [
    {
     "name": "stdout",
     "output_type": "stream",
     "text": [
      "47580\n",
      "File Name : ./data/mydata_copy.txt \t File Size: 26 Byte\n",
      "File Name : ./data/bpc_logo.jpg \t File Size: 47580 Byte\n"
     ]
    }
   ],
   "source": [
    "# 파일 크기 구하기\n",
    "from os.path import getsize\n",
    "\n",
    "file1 = './data/mydata_copy.txt'\n",
    "file2 = './data/bpc_logo.jpg'\n",
    "\n",
    "# OK !!\n",
    "# file2 = '/Users/user/Dropbox/sect_tech/src_anaconda/images/jupyter_logo.png'\n",
    "\n",
    "# SyntaxError\n",
    "# file2 = 'C:\\Users\\user\\Dropbox\\sect_tech\\src_anaconda\\images\\upyter_logo.png'\n",
    "\n",
    "file_size1 = getsize(file1)\n",
    "file_size2 = getsize(file2)\n",
    "\n",
    "print(file_size2)\n",
    "print('File Name : %s \\t File Size: %d Byte' %(file1, file_size1))\n",
    "print('File Name : %s \\t File Size: %d Byte' %(file2, file_size2))"
   ]
  },
  {
   "cell_type": "code",
   "execution_count": 60,
   "metadata": {},
   "outputs": [
    {
     "name": "stdout",
     "output_type": "stream",
     "text": [
      "[./data/mydata_copy.txt] 파일을 삭제하겠습니까? ([y]/n)\n",
      "[./data/mydata_copy.txt] 파일을 삭제했습니다.\n"
     ]
    }
   ],
   "source": [
    "# 파일 삭제하기(osremove)\n",
    "from os import remove\n",
    "\n",
    "target_file = './data/mydata_copy.txt'\n",
    "k = input('[%s] 파일을 삭제하겠습니까? ([y]/n)' %target_file)\n",
    "\n",
    "if k == 'y' or k == '':\n",
    "    remove(target_file)\n",
    "    print('[%s] 파일을 삭제했습니다.' %target_file)"
   ]
  },
  {
   "cell_type": "code",
   "execution_count": 96,
   "metadata": {},
   "outputs": [
    {
     "name": "stdout",
     "output_type": "stream",
     "text": [
      "[./data/mydata.txt]에 대한 새로운 파일 이름을 입력하세요.gld\n",
      "[./data/mydata.txt] -> [gld]로 파일 이름이 변경되었습니다.\n"
     ]
    }
   ],
   "source": [
    "# 파일 이름 바꾸기\n",
    "from os import rename\n",
    "folder_path = './data/'\n",
    "target_file = folder_path + 'mydata.txt'\n",
    "newname = input('[%s]에 대한 새로운 파일 이름을 입력하세요.' % (target_file))\n",
    "\n",
    "new_file = newname\n",
    "rename(target_file, new_file)\n",
    "print('[%s] -> [%s]로 파일 이름이 변경되었습니다.' % (target_file, new_file))"
   ]
  },
  {
   "cell_type": "code",
   "execution_count": 97,
   "metadata": {},
   "outputs": [
    {
     "name": "stdout",
     "output_type": "stream",
     "text": [
      "[gld]를 이동할 디렉터리의 절대경로를 입력하세요: /temp\n",
      "[gld] -> [/temp/gld]로 이동되었습니다.\n"
     ]
    }
   ],
   "source": [
    "# 파일을 다른 디렉토리로 이동하기\n",
    "from os import rename\n",
    "\n",
    "target_file = new_file\n",
    "newpath = input('[%s]를 이동할 디렉터리의 절대경로를 입력하세요: ' %target_file)\n",
    "\n",
    "if newpath[-1] == '/':\n",
    "    newname = newpath + target_file\n",
    "else:\n",
    "    newname = newpath + '/'+target_file\n",
    "try:\n",
    "    rename(target_file, newname)\n",
    "    print('[%s] -> [%s]로 이동되었습니다.' %(target_file, newname))\n",
    "except FileNotFoundError as e:\n",
    "    print(e)"
   ]
  },
  {
   "cell_type": "code",
   "execution_count": 98,
   "metadata": {},
   "outputs": [
    {
     "name": "stdout",
     "output_type": "stream",
     "text": [
      "['.ipynb_checkpoints', 'bpc_logo.jpg', 'company.csv', 'hello.txt', 'mydata_copy.txt', 'mydate_copy.txt', 'students.csv', 'subject.txt']\n",
      "['data\\\\hello.txt', 'data\\\\mydata_copy.txt', 'data\\\\mydate_copy.txt', 'data\\\\subject.txt']\n"
     ]
    }
   ],
   "source": [
    "# 디렉토리에 있는 파일목록 얻기\n",
    "import os, glob\n",
    "\n",
    "folder = 'data'\n",
    "file_list1 = os.listdir(folder)\n",
    "print(file_list1)\n",
    "\n",
    "files = 'data/*.txt'\n",
    "file_list2 = glob.glob(files)\n",
    "print(file_list2)"
   ]
  },
  {
   "cell_type": "code",
   "execution_count": 101,
   "metadata": {},
   "outputs": [
    {
     "name": "stdout",
     "output_type": "stream",
     "text": [
      "C:\\Users\\ktm\\Anaconda_src\n",
      "C:\\Users\\ktm\\Anaconda_src\\data\n",
      "C:\\Users\\ktm\\Anaconda_src\n",
      "C:\\Users\\ktm\\Anaconda_src\n"
     ]
    }
   ],
   "source": [
    "# 현대 디렉토리 확인하고 바꾸기(os.getcwd, os.chdir)\n",
    "import os\n",
    "pdir = os.getcwd(); print(pdir)\n",
    "os.chdir('data');   print(os.getcwd())\n",
    "os.chdir('..');     print(os.getcwd())\n",
    "os.chdir(pdir);     print(os.getcwd())"
   ]
  },
  {
   "cell_type": "code",
   "execution_count": 102,
   "metadata": {},
   "outputs": [
    {
     "name": "stdout",
     "output_type": "stream",
     "text": [
      " C 드라이브의 볼륨에는 이름이 없습니다.\n",
      " 볼륨 일련 번호: C43B-BFDD\n",
      "\n",
      " C:\\Users\\ktm\\Anaconda_src 디렉터리\n",
      "\n",
      "2019-08-22  오전 10:30    <DIR>          .\n",
      "2019-08-22  오전 10:30    <DIR>          ..\n",
      "2019-08-22  오전 09:58    <DIR>          .ipynb_checkpoints\n",
      "2019-08-22  오전 10:15    <DIR>          data\n",
      "2019-08-20  오후 05:43             9,248 File IO.ipynb\n",
      "2019-08-22  오전 09:04            56,766 Python 리뷰.ipynb\n",
      "2019-08-22  오전 10:22    <DIR>          temp\n",
      "2019-08-20  오후 05:44            13,022 try.except.ipynb\n",
      "2019-08-22  오전 10:30            25,182 파일핸들링 & OS 기본명령어.ipynb\n",
      "               4개 파일             104,218 바이트\n",
      "               5개 디렉터리  40,514,596,864 바이트 남음\n"
     ]
    }
   ],
   "source": [
    "%ls"
   ]
  },
  {
   "cell_type": "code",
   "execution_count": 104,
   "metadata": {},
   "outputs": [
    {
     "name": "stdout",
     "output_type": "stream",
     "text": [
      "새로 생성할 디렉토리 이름을 입력하세요: yrulaugh\n",
      "[yrulaugh] 디렉토리를 새로 생성했습니다.\n"
     ]
    }
   ],
   "source": [
    "# 디렉토리 생성하기\n",
    "import os\n",
    "newfolder = input('새로 생성할 디렉토리 이름을 입력하세요: ')\n",
    "try:\n",
    "    os.mkdir(newfolder)\n",
    "    print('[%s] 디렉토리를 새로 생성했습니다.' %newfolder)\n",
    "except Exception as e:\n",
    "    print(e)"
   ]
  },
  {
   "cell_type": "code",
   "execution_count": 105,
   "metadata": {},
   "outputs": [
    {
     "name": "stdout",
     "output_type": "stream",
     "text": [
      "[yrulaugh] 디렉토리를 삭제하겠습니까? (y/n)y\n",
      "[yrulaugh] 디렉토리를 삭제했습니다.\n"
     ]
    }
   ],
   "source": [
    "# 디렉토리 제거하기\n",
    "import os\n",
    "target_folder = newfolder\n",
    "k = input('[%s] 디렉토리를 삭제하겠습니까? (y/n)' %target_folder)\n",
    "if k=='y':\n",
    "    try:\n",
    "        os.rmdir(target_folder)\n",
    "        print('[%s] 디렉토리를 삭제했습니다.' %target_folder)\n",
    "    except Exception as e:\n",
    "        print(e)"
   ]
  },
  {
   "cell_type": "code",
   "execution_count": 109,
   "metadata": {},
   "outputs": [
    {
     "name": "stdout",
     "output_type": "stream",
     "text": [
      "[./asd] 하위 모든 디렉터리 및 파일들을 삭제합니다.\n",
      ".ipynb_checkpoints\n",
      "df\n",
      "gf\n",
      "[./asd]를 삭제하겠습니까? (y/n) y\n",
      "[./asd]의 모든 하위 디렉터리와 파일들을 삭제했습니다.\n"
     ]
    }
   ],
   "source": [
    "# 하위 디렉터리 및 파일 전체 삭제하기(shutil.rmtree)\n",
    "import shutil\n",
    "import os\n",
    "\n",
    "target_folder = './asd'\n",
    "print('[%s] 하위 모든 디렉터리 및 파일들을 삭제합니다.' %target_folder)\n",
    "\n",
    "for file in os.listdir(target_folder):\n",
    "    print(file)\n",
    "k = input('[%s]를 삭제하겠습니까? (y/n) ' %target_folder)\n",
    "\n",
    "if k == 'y':\n",
    "    try:\n",
    "        shutil.rmtree(target_folder)\n",
    "        print('[%s]의 모든 하위 디렉터리와 파일들을 삭제했습니다.' %target_folder)\n",
    "    except Exception as e:\n",
    "        print(e)"
   ]
  },
  {
   "cell_type": "code",
   "execution_count": 107,
   "metadata": {},
   "outputs": [
    {
     "name": "stdout",
     "output_type": "stream",
     "text": [
      "새로 생성할 디렉토리 이름을 입력하세요.: /temp\n",
      "[/temp]은(는) 이미 존재합니다.\n"
     ]
    }
   ],
   "source": [
    "# 파일이 존재하는지 체크하기\n",
    "import os\n",
    "from os.path import exists\n",
    "\n",
    "dir_name = input('새로 생성할 디렉토리 이름을 입력하세요.: ')\n",
    "\n",
    "if not exists(dir_name):\n",
    "    os.mkdir(dir_name)\n",
    "    print('[%s] 디렉토리를 생성했습니다.' %dir_name)\n",
    "else:\n",
    "    print('[%s]은(는) 이미 존재합니다.' %dir_name)"
   ]
  },
  {
   "cell_type": "code",
   "execution_count": 108,
   "metadata": {},
   "outputs": [
    {
     "name": "stdout",
     "output_type": "stream",
     "text": [
      "DIR: .ipynb_checkpoints\n",
      "DIR: asd\n",
      "DIR: data\n",
      "DIR: temp\n",
      "FILE: File IO.ipynb\n",
      "FILE: Python 리뷰.ipynb\n",
      "FILE: try.except.ipynb\n",
      "FILE: 파일핸들링 & OS 기본명령어.ipynb\n"
     ]
    }
   ],
   "source": [
    "# 파일인지 디렉토리인지 확인하기\n",
    "import os\n",
    "from os.path import exists, isdir, isfile\n",
    "\n",
    "#file = os.listdir('..')\n",
    "files = os.listdir()\n",
    "\n",
    "for file in files:\n",
    "    if isdir(file):\n",
    "        print('DIR: %s' %file)\n",
    "        \n",
    "for file in files:\n",
    "    if isfile(file):\n",
    "        print('FILE: %s' %file)"
   ]
  },
  {
   "cell_type": "code",
   "execution_count": null,
   "metadata": {},
   "outputs": [],
   "source": []
  }
 ],
 "metadata": {
  "kernelspec": {
   "display_name": "Python 3",
   "language": "python",
   "name": "python3"
  },
  "language_info": {
   "codemirror_mode": {
    "name": "ipython",
    "version": 3
   },
   "file_extension": ".py",
   "mimetype": "text/x-python",
   "name": "python",
   "nbconvert_exporter": "python",
   "pygments_lexer": "ipython3",
   "version": "3.7.3"
  }
 },
 "nbformat": 4,
 "nbformat_minor": 2
}
