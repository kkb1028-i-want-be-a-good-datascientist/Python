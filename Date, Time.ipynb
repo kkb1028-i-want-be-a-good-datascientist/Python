{
 "cells": [
  {
   "cell_type": "markdown",
   "metadata": {},
   "source": [
    "# Date, Time"
   ]
  },
  {
   "cell_type": "markdown",
   "metadata": {},
   "source": [
    "## 시간 정보"
   ]
  },
  {
   "cell_type": "code",
   "execution_count": 7,
   "metadata": {},
   "outputs": [],
   "source": [
    "# 현재 시간을 년-월-일-시:분:초로 출력하기(local time, strftime)\n",
    "from time import localtime, strftime\n",
    "\n",
    "def writelog(logfile, log):\n",
    "    time_stamp = strftime('%Y-%m-%d %X\\t', localtime())\n",
    "    log = time_stamp + log + '\\n'\n",
    "    \n",
    "    with open(logfile, 'a') as f:\n",
    "        f.writelines(log)\n",
    "        \n",
    "logfile = 'test.log'\n",
    "# ! rm$logfile\n",
    "# ! del test.log\n",
    "\n",
    "writelog(logfile, '첫번째 로깅 문장입니다.')"
   ]
  },
  {
   "cell_type": "code",
   "execution_count": 8,
   "metadata": {},
   "outputs": [
    {
     "name": "stdout",
     "output_type": "stream",
     "text": [
      "2019-08-22 16:38:05\t세번째 로깅 문장입니다.\n",
      "2019-08-22 16:38:42\t첫번째 로깅 문장입니다.\n"
     ]
    }
   ],
   "source": [
    "# ! cat $logfile\n",
    "! type test.log"
   ]
  },
  {
   "cell_type": "code",
   "execution_count": 32,
   "metadata": {},
   "outputs": [
    {
     "name": "stdout",
     "output_type": "stream",
     "text": [
      "time.struct_time(tm_year=2019, tm_mon=8, tm_mday=22, tm_hour=17, tm_min=23, tm_sec=32, tm_wday=3, tm_yday=234, tm_isdst=0)\n",
      "오늘은 [2019-01-01]이후 [234]일째 되는 날입니다.\n"
     ]
    }
   ],
   "source": [
    "from time import localtime\n",
    "\n",
    "t = localtime()\n",
    "print(t)\n",
    "\n",
    "start_day = '%d-01-01' % (t.tm_year)\n",
    "elapsed_day = t.tm_yday\n",
    "\n",
    "print('오늘은 [%s]이후 [%d]일째 되는 날입니다.' %(start_day, elapsed_day))"
   ]
  },
  {
   "cell_type": "code",
   "execution_count": 48,
   "metadata": {},
   "outputs": [],
   "source": [
    "from datetime import datetime\n",
    "\n",
    "def getMemorialDay(year, month, day, mem_day='기념일', is_msg=True):\n",
    "        today = datetime.now()\n",
    "       \n",
    "        m_day = datetime(year, month, day)\n",
    "        \n",
    "        elapsed = today - m_day\n",
    "        elapsed_day = elapsed.days\n",
    "        elapsed_month = int(elapsed_day / 30)\n",
    "        elapsed_year = int(elapsed_day / 365)\n",
    "        elapsed_day = format(elapsed_day,',')\n",
    "        \n",
    "        \n",
    "        \n",
    "        if is_msg:\n",
    "            print('오늘은 \"{}\"일로부터 {}일 경과되었고, 달 수로는 {}개월째, 연 수로는 {}년째 되었습니다.'.format(mem_day, elapsed_day, elapsed_month, elapsed_year))\n",
    "        else:\n",
    "            print('안 알랴줌!')\n",
    "        return elapsed_day, elapsed_month, elapsed_year"
   ]
  },
  {
   "cell_type": "code",
   "execution_count": 53,
   "metadata": {},
   "outputs": [
    {
     "name": "stdout",
     "output_type": "stream",
     "text": [
      "안 알랴줌!\n"
     ]
    },
    {
     "data": {
      "text/plain": [
       "('1,270', 42, 3)"
      ]
     },
     "execution_count": 53,
     "metadata": {},
     "output_type": "execute_result"
    }
   ],
   "source": [
    "getMemorialDay(2016, 3, 1, '임관일', False)"
   ]
  },
  {
   "cell_type": "code",
   "execution_count": 14,
   "metadata": {},
   "outputs": [
    {
     "name": "stdout",
     "output_type": "stream",
     "text": [
      "10,000,000,000\n"
     ]
    }
   ],
   "source": [
    "ad = 10000000000\n",
    "ad = format(ad,',')\n",
    "print(ad)"
   ]
  },
  {
   "cell_type": "code",
   "execution_count": 21,
   "metadata": {},
   "outputs": [
    {
     "name": "stdout",
     "output_type": "stream",
     "text": [
      "(0, '8')\n",
      "(1, '7')\n",
      "(2, '6')\n",
      "(3, '5')\n",
      "(4, '4')\n",
      "(5, '3')\n",
      "(6, '2')\n",
      "(7, '1')\n"
     ]
    }
   ],
   "source": [
    "num = '12345678'\n",
    "num = num[::-1]\n",
    "for c in enumerate(num):\n",
    "    print(c)"
   ]
  },
  {
   "cell_type": "code",
   "execution_count": 31,
   "metadata": {},
   "outputs": [
    {
     "name": "stdout",
     "output_type": "stream",
     "text": [
      "아무 숫자를 입력하세요: 1212121\n",
      "1,212,121\n"
     ]
    }
   ],
   "source": [
    "# 주어진 숫자를 천 단위로 구분하기\n",
    "num = input('아무 숫자를 입력하세요: ')\n",
    "\n",
    "if num.isdigit():\n",
    "    num = num[::-1]\n",
    "    ret = ''\n",
    "    for i, c in enumerate(num):\n",
    "        i+= 1\n",
    "        if i != len(num) and i%3 ==0:\n",
    "            ret += (c + ',')\n",
    "        else:\n",
    "            ret += c\n",
    "    ret = ret[::-1]\n",
    "    print(ret)\n",
    "else:\n",
    "    print('입력한 내용 [%s] 숫자가 아닙니다.' % num)"
   ]
  },
  {
   "cell_type": "code",
   "execution_count": null,
   "metadata": {},
   "outputs": [],
   "source": []
  },
  {
   "cell_type": "code",
   "execution_count": null,
   "metadata": {},
   "outputs": [],
   "source": []
  }
 ],
 "metadata": {
  "kernelspec": {
   "display_name": "Python 3",
   "language": "python",
   "name": "python3"
  },
  "language_info": {
   "codemirror_mode": {
    "name": "ipython",
    "version": 3
   },
   "file_extension": ".py",
   "mimetype": "text/x-python",
   "name": "python",
   "nbconvert_exporter": "python",
   "pygments_lexer": "ipython3",
   "version": "3.7.3"
  }
 },
 "nbformat": 4,
 "nbformat_minor": 2
}
