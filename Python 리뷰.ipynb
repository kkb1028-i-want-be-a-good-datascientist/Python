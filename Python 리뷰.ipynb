{
 "cells": [
  {
   "cell_type": "markdown",
   "metadata": {},
   "source": [
    "# 파이썬 실습"
   ]
  },
  {
   "cell_type": "markdown",
   "metadata": {},
   "source": [
    "## Jupyter\n",
    "> 쥬피터 노트북으로 실습하겠습니다.\n",
    "- 파이썬 기본내용 리뷰\n",
    "- 패키지 학습"
   ]
  },
  {
   "cell_type": "markdown",
   "metadata": {},
   "source": [
    "### practice"
   ]
  },
  {
   "cell_type": "markdown",
   "metadata": {},
   "source": [
    "- practice1\n",
    "- practice2\n",
    "- practice3"
   ]
  },
  {
   "cell_type": "code",
   "execution_count": 6,
   "metadata": {},
   "outputs": [
    {
     "name": "stdout",
     "output_type": "stream",
     "text": [
      "hello jupyter!!!\n"
     ]
    }
   ],
   "source": [
    "print('hello jupyter!!!')"
   ]
  },
  {
   "cell_type": "code",
   "execution_count": 2,
   "metadata": {},
   "outputs": [
    {
     "name": "stdout",
     "output_type": "stream",
     "text": [
      "9\n"
     ]
    }
   ],
   "source": [
    "print(4+5)"
   ]
  },
  {
   "cell_type": "code",
   "execution_count": 3,
   "metadata": {},
   "outputs": [
    {
     "data": {
      "text/plain": [
       "13"
      ]
     },
     "execution_count": 3,
     "metadata": {},
     "output_type": "execute_result"
    }
   ],
   "source": [
    "x = 6+7\n",
    "x"
   ]
  },
  {
   "cell_type": "code",
   "execution_count": 4,
   "metadata": {},
   "outputs": [
    {
     "data": {
      "text/plain": [
       "'쥬피터에서 프린트하지 않아도 마지막 한줄은 바로 출력됩니다'"
      ]
     },
     "execution_count": 4,
     "metadata": {},
     "output_type": "execute_result"
    }
   ],
   "source": [
    "'쥬피터에서 프린트하지 않아도 마지막 한줄은 바로 출력됩니다'"
   ]
  },
  {
   "cell_type": "code",
   "execution_count": 12,
   "metadata": {},
   "outputs": [
    {
     "name": "stdout",
     "output_type": "stream",
     "text": [
      "안녕하세요!\n",
      "반갑습니다.\n"
     ]
    }
   ],
   "source": [
    "print('안녕하세요!\\n반갑습니다.')"
   ]
  },
  {
   "cell_type": "code",
   "execution_count": 14,
   "metadata": {},
   "outputs": [
    {
     "name": "stdout",
     "output_type": "stream",
     "text": [
      "\n",
      "빅데이터 과정에서 만나서\n",
      "반갑습니다.\n",
      "끝까지 화이팅하세요!!\n"
     ]
    }
   ],
   "source": [
    "print('''\n",
    "빅데이터 과정에서 만나서\n",
    "반갑습니다.\n",
    "끝까지 화이팅하세요!!''')"
   ]
  },
  {
   "cell_type": "code",
   "execution_count": 15,
   "metadata": {},
   "outputs": [
    {
     "name": "stdout",
     "output_type": "stream",
     "text": [
      "A와 B를 더한 값은30입니다.\n"
     ]
    }
   ],
   "source": [
    "a=10\n",
    "b=20\n",
    "ret=a+b\n",
    "print('A와 B를 더한 값은', end='')\n",
    "print(ret, end='')\n",
    "print('입니다.')"
   ]
  },
  {
   "cell_type": "code",
   "execution_count": 16,
   "metadata": {},
   "outputs": [
    {
     "name": "stdout",
     "output_type": "stream",
     "text": [
      "사과 7개의 가격은3500원입니다.\n"
     ]
    }
   ],
   "source": [
    "apple_price = 500\n",
    "apple_count = 7\n",
    "print('사과 7개의 가격은'+str(apple_price*apple_count)+'원입니다.')"
   ]
  },
  {
   "cell_type": "code",
   "execution_count": 17,
   "metadata": {},
   "outputs": [
    {
     "name": "stdout",
     "output_type": "stream",
     "text": [
      "이름을 입력하세요.오오리\n",
      "오오리님, 어서오세요.\n"
     ]
    }
   ],
   "source": [
    "name=input('이름을 입력하세요.')\n",
    "welcome=name+'님, 어서오세요.'\n",
    "print(welcome)"
   ]
  },
  {
   "cell_type": "code",
   "execution_count": 20,
   "metadata": {},
   "outputs": [
    {
     "name": "stdout",
     "output_type": "stream",
     "text": [
      "1.0\n",
      "7.0\n",
      "(2+3j)\n"
     ]
    }
   ],
   "source": [
    "c1 = 1+7j\n",
    "print(c1.real); print(c1.imag)\n",
    "c2 = complex(2,3)\n",
    "print(c2)"
   ]
  },
  {
   "cell_type": "code",
   "execution_count": 21,
   "metadata": {},
   "outputs": [
    {
     "name": "stdout",
     "output_type": "stream",
     "text": [
      "숫자A와 숫자B는 같지 않습니다.\n"
     ]
    }
   ],
   "source": [
    "num_a = 100\n",
    "num_b = 200\n",
    "if num_a == num_b:\n",
    "    print('숫자A와 숫자B는 같습니다.')\n",
    "else:\n",
    "    print('숫자A와 숫자B는 같지 않습니다.')"
   ]
  },
  {
   "cell_type": "code",
   "execution_count": 22,
   "metadata": {},
   "outputs": [
    {
     "name": "stdout",
     "output_type": "stream",
     "text": [
      "숫자B가 더 큰수입니다.\n"
     ]
    }
   ],
   "source": [
    "if num_a > num_b:\n",
    "    print('숫자A가 더 큰수입니다.')\n",
    "else:\n",
    "    print('숫자B가 더 큰수입니다.')"
   ]
  },
  {
   "cell_type": "code",
   "execution_count": 23,
   "metadata": {},
   "outputs": [
    {
     "name": "stdout",
     "output_type": "stream",
     "text": [
      "숫자B가 더 큰수입니다.\n",
      "숫자A와 숫자B 중 최대값은 200 입니다.\n"
     ]
    }
   ],
   "source": [
    "if num_a > num_b:\n",
    "    print('숫자A가 더 큰수입니다.')\n",
    "    max = num_a\n",
    "elif num_a < num_b:\n",
    "    print('숫자B가 더 큰수입니다.')\n",
    "    max = num_b\n",
    "else:\n",
    "    print('숫자A와 숫자B는 같습니다.')\n",
    "    \n",
    "    \n",
    "print('숫자A와 숫자B 중 최대값은', max, '입니다.')"
   ]
  },
  {
   "cell_type": "code",
   "execution_count": 28,
   "metadata": {},
   "outputs": [
    {
     "name": "stdout",
     "output_type": "stream",
     "text": [
      "A\n",
      "B\n",
      "C\n",
      "D\n",
      "E\n"
     ]
    }
   ],
   "source": [
    "scope=['A', 'B', 'C', 'D', 'E']\n",
    "for x in scope:\n",
    "       print(x)"
   ]
  },
  {
   "cell_type": "code",
   "execution_count": 29,
   "metadata": {},
   "outputs": [
    {
     "name": "stdout",
     "output_type": "stream",
     "text": [
      "일\n",
      "이\n",
      "삼\n",
      "사\n",
      "오\n"
     ]
    }
   ],
   "source": [
    "scope = '일이삼사오'\n",
    "for x in scope:\n",
    "    print(x)"
   ]
  },
  {
   "cell_type": "code",
   "execution_count": 30,
   "metadata": {},
   "outputs": [
    {
     "name": "stdout",
     "output_type": "stream",
     "text": [
      "1\n",
      "2\n",
      "3\n"
     ]
    }
   ],
   "source": [
    "scope = [1,2,3,4,5]\n",
    "for x in scope:\n",
    "    print(x)\n",
    "    if x < 3:\n",
    "        continue\n",
    "    else:\n",
    "        break"
   ]
  },
  {
   "cell_type": "code",
   "execution_count": 33,
   "metadata": {},
   "outputs": [
    {
     "name": "stdout",
     "output_type": "stream",
     "text": [
      "1\n"
     ]
    }
   ],
   "source": [
    "scope = [1,2,3]\n",
    "for x in scope:\n",
    "    print(x)\n",
    "    break\n",
    "else:\n",
    "    print('perfect')"
   ]
  },
  {
   "cell_type": "code",
   "execution_count": 34,
   "metadata": {},
   "outputs": [],
   "source": [
    "animals = ['dog','cat','sheep','duck','cow']"
   ]
  },
  {
   "cell_type": "code",
   "execution_count": 35,
   "metadata": {},
   "outputs": [
    {
     "data": {
      "text/plain": [
       "'dog'"
      ]
     },
     "execution_count": 35,
     "metadata": {},
     "output_type": "execute_result"
    }
   ],
   "source": [
    "animals[0]"
   ]
  },
  {
   "cell_type": "code",
   "execution_count": 36,
   "metadata": {},
   "outputs": [
    {
     "data": {
      "text/plain": [
       "['cat', 'sheep', 'duck']"
      ]
     },
     "execution_count": 36,
     "metadata": {},
     "output_type": "execute_result"
    }
   ],
   "source": [
    "animals[1:4]"
   ]
  },
  {
   "cell_type": "code",
   "execution_count": 37,
   "metadata": {},
   "outputs": [
    {
     "data": {
      "text/plain": [
       "['dog', 'cat', 'sheep', 'duck', 'cow']"
      ]
     },
     "execution_count": 37,
     "metadata": {},
     "output_type": "execute_result"
    }
   ],
   "source": [
    "animals[:]"
   ]
  },
  {
   "cell_type": "code",
   "execution_count": 38,
   "metadata": {},
   "outputs": [
    {
     "data": {
      "text/plain": [
       "['dog', 'sheep', 'cow']"
      ]
     },
     "execution_count": 38,
     "metadata": {},
     "output_type": "execute_result"
    }
   ],
   "source": [
    "animals[::2]"
   ]
  },
  {
   "cell_type": "code",
   "execution_count": 39,
   "metadata": {},
   "outputs": [
    {
     "data": {
      "text/plain": [
       "'cow'"
      ]
     },
     "execution_count": 39,
     "metadata": {},
     "output_type": "execute_result"
    }
   ],
   "source": [
    "animals[-1]"
   ]
  },
  {
   "cell_type": "code",
   "execution_count": 40,
   "metadata": {},
   "outputs": [
    {
     "data": {
      "text/plain": [
       "['cow', 'duck', 'sheep', 'cat', 'dog']"
      ]
     },
     "execution_count": 40,
     "metadata": {},
     "output_type": "execute_result"
    }
   ],
   "source": [
    "animals[::-1]"
   ]
  },
  {
   "cell_type": "code",
   "execution_count": 41,
   "metadata": {},
   "outputs": [
    {
     "name": "stdout",
     "output_type": "stream",
     "text": [
      "dog\n",
      "cat\n",
      "sheep\n",
      "duck\n",
      "cow\n"
     ]
    }
   ],
   "source": [
    "for animal in animals:\n",
    "    print(animal)"
   ]
  },
  {
   "cell_type": "code",
   "execution_count": 42,
   "metadata": {},
   "outputs": [
    {
     "name": "stdout",
     "output_type": "stream",
     "text": [
      "dog\n",
      "cat\n",
      "sheep\n",
      "duck\n",
      "cow\n"
     ]
    }
   ],
   "source": [
    "size = len(animals)\n",
    "for i in range(size):\n",
    "    animal = animals[i]\n",
    "    print(animal)"
   ]
  },
  {
   "cell_type": "code",
   "execution_count": 43,
   "metadata": {},
   "outputs": [],
   "source": [
    "beast = set([\"lion\",\"tiger\",\"wolf\",\"tiger\",\"lion\"])"
   ]
  },
  {
   "cell_type": "code",
   "execution_count": 44,
   "metadata": {},
   "outputs": [
    {
     "data": {
      "text/plain": [
       "{'lion', 'tiger', 'wolf'}"
      ]
     },
     "execution_count": 44,
     "metadata": {},
     "output_type": "execute_result"
    }
   ],
   "source": [
    "beast"
   ]
  },
  {
   "cell_type": "code",
   "execution_count": 45,
   "metadata": {},
   "outputs": [
    {
     "data": {
      "text/plain": [
       "{'a', 'b', 'c', 'd', 'r'}"
      ]
     },
     "execution_count": 45,
     "metadata": {},
     "output_type": "execute_result"
    }
   ],
   "source": [
    "data = set('abracadabra')\n",
    "data"
   ]
  },
  {
   "cell_type": "code",
   "execution_count": 46,
   "metadata": {},
   "outputs": [
    {
     "data": {
      "text/plain": [
       "['a', 'b', 'c', 'd', 'r']"
      ]
     },
     "execution_count": 46,
     "metadata": {},
     "output_type": "execute_result"
    }
   ],
   "source": [
    "data = sorted(data)\n",
    "data"
   ]
  },
  {
   "cell_type": "code",
   "execution_count": 48,
   "metadata": {},
   "outputs": [],
   "source": [
    "customer = {\n",
    "    \"name\":\"김진수\",\n",
    "    \"gender\":\"남자\",\n",
    "    \"email\":\"bigpycraft@gmail.com\",\n",
    "    \"company\":\"빅파이크래프트\",\n",
    "    \"address\":\"서울시 노원구 월계로\"\n",
    "}"
   ]
  },
  {
   "cell_type": "code",
   "execution_count": 49,
   "metadata": {},
   "outputs": [
    {
     "data": {
      "text/plain": [
       "dict_keys(['name', 'gender', 'email', 'company', 'address'])"
      ]
     },
     "execution_count": 49,
     "metadata": {},
     "output_type": "execute_result"
    }
   ],
   "source": [
    "customer.keys()"
   ]
  },
  {
   "cell_type": "code",
   "execution_count": 50,
   "metadata": {},
   "outputs": [
    {
     "name": "stdout",
     "output_type": "stream",
     "text": [
      "name\n",
      "gender\n",
      "email\n",
      "company\n",
      "address\n"
     ]
    }
   ],
   "source": [
    "for something in customer:\n",
    "    print(something)"
   ]
  },
  {
   "cell_type": "code",
   "execution_count": 51,
   "metadata": {},
   "outputs": [
    {
     "name": "stdout",
     "output_type": "stream",
     "text": [
      "name ==> 김진수\n",
      "gender ==> 남자\n",
      "email ==> bigpycraft@gmail.com\n",
      "company ==> 빅파이크래프트\n",
      "address ==> 서울시 노원구 월계로\n"
     ]
    }
   ],
   "source": [
    "for key in customer:\n",
    "    value=customer[key]\n",
    "    print('%s ==> %s' % (key,value))"
   ]
  },
  {
   "cell_type": "code",
   "execution_count": 52,
   "metadata": {},
   "outputs": [
    {
     "data": {
      "text/plain": [
       "'hello, 김진수'"
      ]
     },
     "execution_count": 52,
     "metadata": {},
     "output_type": "execute_result"
    }
   ],
   "source": [
    "'%s, %s' % ('hello', '김진수')"
   ]
  },
  {
   "cell_type": "code",
   "execution_count": 53,
   "metadata": {},
   "outputs": [
    {
     "data": {
      "text/plain": [
       "'김진수:안녕하세요., 김진수'"
      ]
     },
     "execution_count": 53,
     "metadata": {},
     "output_type": "execute_result"
    }
   ],
   "source": [
    "'{name}:{greeting}, {name}'.format(greeting = '안녕하세요.', name = '김진수')"
   ]
  },
  {
   "cell_type": "code",
   "execution_count": 56,
   "metadata": {},
   "outputs": [
    {
     "name": "stdout",
     "output_type": "stream",
     "text": [
      "name ==> 김진수\n",
      "gender ==> 남자\n",
      "email ==> bigpycraft@gmail.com\n",
      "company ==> 빅파이크래프트\n",
      "address ==> 서울시 노원구 월계로\n"
     ]
    }
   ],
   "source": [
    "for key, value in customer.items():\n",
    "    print(key, '==>', value)"
   ]
  },
  {
   "cell_type": "code",
   "execution_count": 55,
   "metadata": {},
   "outputs": [
    {
     "name": "stdout",
     "output_type": "stream",
     "text": [
      "('name', '김진수')\n",
      "('gender', '남자')\n",
      "('email', 'bigpycraft@gmail.com')\n",
      "('company', '빅파이크래프트')\n",
      "('address', '서울시 노원구 월계로')\n"
     ]
    }
   ],
   "source": [
    "for something in customer.items():\n",
    "    print(something)"
   ]
  },
  {
   "cell_type": "code",
   "execution_count": 59,
   "metadata": {},
   "outputs": [
    {
     "name": "stdout",
     "output_type": "stream",
     "text": [
      "name==>김진수\n",
      "gender==>남자\n",
      "email==>bigpycraft@gmail.com\n",
      "company==>빅파이크래프트\n",
      "address==>서울시 노원구 월계로\n"
     ]
    }
   ],
   "source": [
    "for key, value in customer.items():\n",
    "    print(\"{key}==>{value}\".format(key  = key, value = value))"
   ]
  },
  {
   "cell_type": "code",
   "execution_count": 60,
   "metadata": {},
   "outputs": [
    {
     "name": "stdout",
     "output_type": "stream",
     "text": [
      "name     ==> 김진수\n",
      "gender   ==> 남자\n",
      "email    ==> bigpycraft@gmail.com\n",
      "company  ==> 빅파이크래프트\n",
      "address  ==> 서울시 노원구 월계로\n"
     ]
    }
   ],
   "source": [
    "for key, value in customer.items():\n",
    "    print(\"{key} {space} ==> {value}\".format(\n",
    "        key   = key,\n",
    "        space = ' '*(7-len(key)),\n",
    "        value = value,\n",
    "    ))"
   ]
  },
  {
   "cell_type": "code",
   "execution_count": 61,
   "metadata": {},
   "outputs": [
    {
     "data": {
      "text/plain": [
       "dict_items([('name', '김진수'), ('gender', '남자'), ('email', 'bigpycraft@gmail.com'), ('company', '빅파이크래프트'), ('address', '서울시 노원구 월계로')])"
      ]
     },
     "execution_count": 61,
     "metadata": {},
     "output_type": "execute_result"
    }
   ],
   "source": [
    "customer.items()"
   ]
  },
  {
   "cell_type": "code",
   "execution_count": 62,
   "metadata": {},
   "outputs": [],
   "source": [
    "def add_text(t1,t2):\n",
    "    print(t1+t2)"
   ]
  },
  {
   "cell_type": "code",
   "execution_count": 63,
   "metadata": {},
   "outputs": [
    {
     "name": "stdout",
     "output_type": "stream",
     "text": [
      "파이썬!최고!!\n"
     ]
    }
   ],
   "source": [
    "text1 = '파이썬!'\n",
    "text2 = '최고!!'\n",
    "add_text(text1, text2)"
   ]
  },
  {
   "cell_type": "code",
   "execution_count": 64,
   "metadata": {},
   "outputs": [],
   "source": [
    "def add_number(n1,n2):\n",
    "    result = n1+n2\n",
    "    return result"
   ]
  },
  {
   "cell_type": "code",
   "execution_count": 65,
   "metadata": {},
   "outputs": [
    {
     "name": "stdout",
     "output_type": "stream",
     "text": [
      "25\n"
     ]
    }
   ],
   "source": [
    "ans = add_number(10,15)\n",
    "print(ans)"
   ]
  },
  {
   "cell_type": "code",
   "execution_count": 66,
   "metadata": {},
   "outputs": [],
   "source": [
    "def add_text(t1, t2='파이썬'):\n",
    "    print(t1+' : ' +t2)"
   ]
  },
  {
   "cell_type": "code",
   "execution_count": 67,
   "metadata": {},
   "outputs": [
    {
     "name": "stdout",
     "output_type": "stream",
     "text": [
      "베스트 : 파이썬\n"
     ]
    }
   ],
   "source": [
    "add_text('베스트')"
   ]
  },
  {
   "cell_type": "code",
   "execution_count": 68,
   "metadata": {},
   "outputs": [
    {
     "name": "stdout",
     "output_type": "stream",
     "text": [
      "1등 : 대한민국\n"
     ]
    }
   ],
   "source": [
    "add_text(t2='대한민국',t1='1등')"
   ]
  },
  {
   "cell_type": "code",
   "execution_count": 69,
   "metadata": {},
   "outputs": [],
   "source": [
    "def func1(*args):\n",
    "    print(args)\n",
    "\n",
    "def func2(width, height, **kwargs):\n",
    "    print(kwargs)"
   ]
  },
  {
   "cell_type": "code",
   "execution_count": 70,
   "metadata": {},
   "outputs": [
    {
     "name": "stdout",
     "output_type": "stream",
     "text": [
      "()\n",
      "(3, 5, 1, 5)\n"
     ]
    }
   ],
   "source": [
    "func1()\n",
    "func1(3,5,1,5)"
   ]
  },
  {
   "cell_type": "code",
   "execution_count": 71,
   "metadata": {},
   "outputs": [
    {
     "name": "stdout",
     "output_type": "stream",
     "text": [
      "{}\n",
      "{'depth': 50, 'color': 'blue'}\n"
     ]
    }
   ],
   "source": [
    "func2(10,20)\n",
    "func2(10,20,depth=50,color='blue')"
   ]
  },
  {
   "cell_type": "code",
   "execution_count": 72,
   "metadata": {},
   "outputs": [],
   "source": [
    "param = 10\n",
    "strdata = '전역변수'\n",
    "\n",
    "def func1():\n",
    "    strdata = '지역변수'\n",
    "    print(strdata)\n",
    "    \n",
    "def func2(param):\n",
    "    param=1\n",
    "    \n",
    "def func3():\n",
    "    global param\n",
    "    param=50"
   ]
  },
  {
   "cell_type": "code",
   "execution_count": 73,
   "metadata": {},
   "outputs": [
    {
     "name": "stdout",
     "output_type": "stream",
     "text": [
      "지역변수\n",
      "전역변수\n",
      "10\n"
     ]
    }
   ],
   "source": [
    "func1()\n",
    "print(strdata)\n",
    "print(param)"
   ]
  },
  {
   "cell_type": "code",
   "execution_count": 74,
   "metadata": {},
   "outputs": [],
   "source": [
    "def add1(a,b):\n",
    "    return a+b\n",
    "\n",
    "def add2(a,b,c):\n",
    "    return a+b+c"
   ]
  },
  {
   "cell_type": "code",
   "execution_count": 75,
   "metadata": {},
   "outputs": [
    {
     "data": {
      "text/plain": [
       "30"
      ]
     },
     "execution_count": 75,
     "metadata": {},
     "output_type": "execute_result"
    }
   ],
   "source": [
    "add1(10,20)"
   ]
  },
  {
   "cell_type": "code",
   "execution_count": 77,
   "metadata": {},
   "outputs": [
    {
     "data": {
      "text/plain": [
       "60"
      ]
     },
     "execution_count": 77,
     "metadata": {},
     "output_type": "execute_result"
    }
   ],
   "source": [
    "add2(10,20,30)"
   ]
  },
  {
   "cell_type": "code",
   "execution_count": 78,
   "metadata": {},
   "outputs": [
    {
     "ename": "TypeError",
     "evalue": "add2() missing 1 required positional argument: 'c'",
     "output_type": "error",
     "traceback": [
      "\u001b[1;31m---------------------------------------------------------------------------\u001b[0m",
      "\u001b[1;31mTypeError\u001b[0m                                 Traceback (most recent call last)",
      "\u001b[1;32m<ipython-input-78-61fe6b6c72f6>\u001b[0m in \u001b[0;36m<module>\u001b[1;34m\u001b[0m\n\u001b[1;32m----> 1\u001b[1;33m \u001b[0madd2\u001b[0m\u001b[1;33m(\u001b[0m\u001b[1;36m10\u001b[0m\u001b[1;33m,\u001b[0m\u001b[1;36m20\u001b[0m\u001b[1;33m)\u001b[0m\u001b[1;33m\u001b[0m\u001b[1;33m\u001b[0m\u001b[0m\n\u001b[0m",
      "\u001b[1;31mTypeError\u001b[0m: add2() missing 1 required positional argument: 'c'"
     ]
    }
   ],
   "source": [
    "add2(10,20)"
   ]
  },
  {
   "cell_type": "code",
   "execution_count": 79,
   "metadata": {},
   "outputs": [],
   "source": [
    "#2개 혹은 3개의 숫자 더하기\n",
    "def add2(a,b,c=0):\n",
    "    return a+b+c"
   ]
  },
  {
   "cell_type": "code",
   "execution_count": 80,
   "metadata": {},
   "outputs": [
    {
     "data": {
      "text/plain": [
       "30"
      ]
     },
     "execution_count": 80,
     "metadata": {},
     "output_type": "execute_result"
    }
   ],
   "source": [
    "add2(10,20)"
   ]
  },
  {
   "cell_type": "code",
   "execution_count": 81,
   "metadata": {},
   "outputs": [
    {
     "data": {
      "text/plain": [
       "60"
      ]
     },
     "execution_count": 81,
     "metadata": {},
     "output_type": "execute_result"
    }
   ],
   "source": [
    "add2(10,20,30)"
   ]
  },
  {
   "cell_type": "code",
   "execution_count": 82,
   "metadata": {},
   "outputs": [],
   "source": [
    "#기본 자료형\n",
    "def add3(numbers): # 숫자 리스트를 받아서, 합을 리턴하는 함수\n",
    "    sum = 0\n",
    "    for num in numbers:\n",
    "        sum+=num\n",
    "        \n",
    "    return sum"
   ]
  },
  {
   "cell_type": "code",
   "execution_count": 83,
   "metadata": {},
   "outputs": [
    {
     "data": {
      "text/plain": [
       "100"
      ]
     },
     "execution_count": 83,
     "metadata": {},
     "output_type": "execute_result"
    }
   ],
   "source": [
    "add3([10,20,30,40])"
   ]
  },
  {
   "cell_type": "code",
   "execution_count": 84,
   "metadata": {},
   "outputs": [
    {
     "data": {
      "text/plain": [
       "100"
      ]
     },
     "execution_count": 84,
     "metadata": {},
     "output_type": "execute_result"
    }
   ],
   "source": [
    "add3((10,20,30,40))"
   ]
  },
  {
   "cell_type": "code",
   "execution_count": 85,
   "metadata": {},
   "outputs": [
    {
     "ename": "TypeError",
     "evalue": "add3() takes 1 positional argument but 4 were given",
     "output_type": "error",
     "traceback": [
      "\u001b[1;31m---------------------------------------------------------------------------\u001b[0m",
      "\u001b[1;31mTypeError\u001b[0m                                 Traceback (most recent call last)",
      "\u001b[1;32m<ipython-input-85-fff88ae01895>\u001b[0m in \u001b[0;36m<module>\u001b[1;34m\u001b[0m\n\u001b[1;32m----> 1\u001b[1;33m \u001b[0madd3\u001b[0m\u001b[1;33m(\u001b[0m\u001b[1;36m10\u001b[0m\u001b[1;33m,\u001b[0m\u001b[1;36m20\u001b[0m\u001b[1;33m,\u001b[0m\u001b[1;36m30\u001b[0m\u001b[1;33m,\u001b[0m\u001b[1;36m40\u001b[0m\u001b[1;33m)\u001b[0m\u001b[1;33m\u001b[0m\u001b[1;33m\u001b[0m\u001b[0m\n\u001b[0m",
      "\u001b[1;31mTypeError\u001b[0m: add3() takes 1 positional argument but 4 were given"
     ]
    }
   ],
   "source": [
    "add3(10,20,30,40)"
   ]
  },
  {
   "cell_type": "code",
   "execution_count": 86,
   "metadata": {},
   "outputs": [],
   "source": [
    "#기본 자료형\n",
    "def add4(*numbers): # 숫자 리스트를 받아서, 합을 리턴하는 함수\n",
    "    sum = 0\n",
    "    for num in numbers:\n",
    "        sum+=num\n",
    "        \n",
    "    return sum"
   ]
  },
  {
   "cell_type": "code",
   "execution_count": 87,
   "metadata": {},
   "outputs": [
    {
     "data": {
      "text/plain": [
       "100"
      ]
     },
     "execution_count": 87,
     "metadata": {},
     "output_type": "execute_result"
    }
   ],
   "source": [
    "add4(10,20,30,40)"
   ]
  },
  {
   "cell_type": "code",
   "execution_count": 88,
   "metadata": {},
   "outputs": [
    {
     "data": {
      "text/plain": [
       "30"
      ]
     },
     "execution_count": 88,
     "metadata": {},
     "output_type": "execute_result"
    }
   ],
   "source": [
    "def add(a,b):\n",
    "    return a+b\n",
    "add(10,20)"
   ]
  },
  {
   "cell_type": "code",
   "execution_count": 89,
   "metadata": {},
   "outputs": [],
   "source": [
    "data=(10,20)"
   ]
  },
  {
   "cell_type": "code",
   "execution_count": 90,
   "metadata": {},
   "outputs": [
    {
     "ename": "TypeError",
     "evalue": "add() missing 1 required positional argument: 'b'",
     "output_type": "error",
     "traceback": [
      "\u001b[1;31m---------------------------------------------------------------------------\u001b[0m",
      "\u001b[1;31mTypeError\u001b[0m                                 Traceback (most recent call last)",
      "\u001b[1;32m<ipython-input-90-111f2035281f>\u001b[0m in \u001b[0;36m<module>\u001b[1;34m\u001b[0m\n\u001b[1;32m----> 1\u001b[1;33m \u001b[0madd\u001b[0m\u001b[1;33m(\u001b[0m\u001b[0mdata\u001b[0m\u001b[1;33m)\u001b[0m\u001b[1;33m\u001b[0m\u001b[1;33m\u001b[0m\u001b[0m\n\u001b[0m",
      "\u001b[1;31mTypeError\u001b[0m: add() missing 1 required positional argument: 'b'"
     ]
    }
   ],
   "source": [
    "add(data)"
   ]
  },
  {
   "cell_type": "code",
   "execution_count": 91,
   "metadata": {},
   "outputs": [
    {
     "data": {
      "text/plain": [
       "30"
      ]
     },
     "execution_count": 91,
     "metadata": {},
     "output_type": "execute_result"
    }
   ],
   "source": [
    "add(*data)"
   ]
  },
  {
   "cell_type": "code",
   "execution_count": 92,
   "metadata": {},
   "outputs": [],
   "source": [
    "data=10,20,30,40,50"
   ]
  },
  {
   "cell_type": "code",
   "execution_count": 93,
   "metadata": {},
   "outputs": [
    {
     "data": {
      "text/plain": [
       "150"
      ]
     },
     "execution_count": 93,
     "metadata": {},
     "output_type": "execute_result"
    }
   ],
   "source": [
    "add4(*data)"
   ]
  },
  {
   "cell_type": "code",
   "execution_count": 103,
   "metadata": {},
   "outputs": [],
   "source": [
    "#*args\n",
    "#**kwargs\n",
    "def introduce(name, greeting):\n",
    "    return \"{name}님, {greeting}\".format(name=name, greeting=greeting)"
   ]
  },
  {
   "cell_type": "code",
   "execution_count": 106,
   "metadata": {},
   "outputs": [],
   "source": [
    "introduce_dict={\n",
    "    \"name\":\"김진수\",\n",
    "    \"greeting\":\"안녕하세요\"\n",
    "}"
   ]
  },
  {
   "cell_type": "code",
   "execution_count": 107,
   "metadata": {},
   "outputs": [
    {
     "data": {
      "text/plain": [
       "'김진수님, 안녕하세요'"
      ]
     },
     "execution_count": 107,
     "metadata": {},
     "output_type": "execute_result"
    }
   ],
   "source": [
    "introduce(**introduce_dict)"
   ]
  },
  {
   "cell_type": "code",
   "execution_count": 108,
   "metadata": {},
   "outputs": [
    {
     "data": {
      "text/plain": [
       "9"
      ]
     },
     "execution_count": 108,
     "metadata": {},
     "output_type": "execute_result"
    }
   ],
   "source": [
    "(lambda x : x**2) (3)"
   ]
  },
  {
   "cell_type": "code",
   "execution_count": 109,
   "metadata": {},
   "outputs": [
    {
     "data": {
      "text/plain": [
       "4"
      ]
     },
     "execution_count": 109,
     "metadata": {},
     "output_type": "execute_result"
    }
   ],
   "source": [
    "mySquare = lambda x : x**2\n",
    "mySquare(2)"
   ]
  },
  {
   "cell_type": "code",
   "execution_count": 110,
   "metadata": {},
   "outputs": [
    {
     "data": {
      "text/plain": [
       "25"
      ]
     },
     "execution_count": 110,
     "metadata": {},
     "output_type": "execute_result"
    }
   ],
   "source": [
    "mySquare(5)"
   ]
  },
  {
   "cell_type": "code",
   "execution_count": 111,
   "metadata": {},
   "outputs": [],
   "source": [
    "mySimpleFunc = lambda x,y,z : 2*x+3*y+z"
   ]
  },
  {
   "cell_type": "code",
   "execution_count": 112,
   "metadata": {},
   "outputs": [
    {
     "data": {
      "text/plain": [
       "11"
      ]
     },
     "execution_count": 112,
     "metadata": {},
     "output_type": "execute_result"
    }
   ],
   "source": [
    "mySimpleFunc(1,2,3)"
   ]
  },
  {
   "cell_type": "code",
   "execution_count": 113,
   "metadata": {},
   "outputs": [
    {
     "data": {
      "text/plain": [
       "(10, 13)"
      ]
     },
     "execution_count": 113,
     "metadata": {},
     "output_type": "execute_result"
    }
   ],
   "source": [
    "func = lambda x,y : x**2+2*y\n",
    "func(2,3), func(3,2)"
   ]
  },
  {
   "cell_type": "code",
   "execution_count": 114,
   "metadata": {},
   "outputs": [
    {
     "data": {
      "text/plain": [
       "12"
      ]
     },
     "execution_count": 114,
     "metadata": {},
     "output_type": "execute_result"
    }
   ],
   "source": [
    "func(2,4)"
   ]
  },
  {
   "cell_type": "code",
   "execution_count": 115,
   "metadata": {},
   "outputs": [
    {
     "data": {
      "text/plain": [
       "function"
      ]
     },
     "execution_count": 115,
     "metadata": {},
     "output_type": "execute_result"
    }
   ],
   "source": [
    "type(func)"
   ]
  },
  {
   "cell_type": "code",
   "execution_count": 116,
   "metadata": {},
   "outputs": [
    {
     "data": {
      "text/plain": [
       "[0, 3]"
      ]
     },
     "execution_count": 116,
     "metadata": {},
     "output_type": "execute_result"
    }
   ],
   "source": [
    "[int(0.123), int(3.23454)]"
   ]
  },
  {
   "cell_type": "code",
   "execution_count": 117,
   "metadata": {},
   "outputs": [
    {
     "data": {
      "text/plain": [
       "[30.0, 0.0]"
      ]
     },
     "execution_count": 117,
     "metadata": {},
     "output_type": "execute_result"
    }
   ],
   "source": [
    "[float(30), float(0)]"
   ]
  },
  {
   "cell_type": "code",
   "execution_count": 118,
   "metadata": {},
   "outputs": [
    {
     "data": {
      "text/plain": [
       "['123', '1405']"
      ]
     },
     "execution_count": 118,
     "metadata": {},
     "output_type": "execute_result"
    }
   ],
   "source": [
    "[str(123), str(1405)]"
   ]
  },
  {
   "cell_type": "code",
   "execution_count": 119,
   "metadata": {},
   "outputs": [
    {
     "name": "stdout",
     "output_type": "stream",
     "text": [
      "입력된 이름: 진수\n"
     ]
    }
   ],
   "source": [
    "def print_name(name):\n",
    "    if bool(name):\n",
    "        print('입력된 이름:', name)\n",
    "    else:\n",
    "        print('입력된 이름이 없습니다.')\n",
    "        \n",
    "print_name('진수')"
   ]
  },
  {
   "cell_type": "code",
   "execution_count": 120,
   "metadata": {},
   "outputs": [
    {
     "name": "stdout",
     "output_type": "stream",
     "text": [
      "입력된 이름이 없습니다.\n"
     ]
    }
   ],
   "source": [
    "print_name('')"
   ]
  },
  {
   "cell_type": "code",
   "execution_count": 125,
   "metadata": {},
   "outputs": [
    {
     "ename": "TypeError",
     "evalue": "'builtin_function_or_method' object is not subscriptable",
     "output_type": "error",
     "traceback": [
      "\u001b[1;31m---------------------------------------------------------------------------\u001b[0m",
      "\u001b[1;31mTypeError\u001b[0m                                 Traceback (most recent call last)",
      "\u001b[1;32m<ipython-input-125-0a618939ac6f>\u001b[0m in \u001b[0;36m<module>\u001b[1;34m\u001b[0m\n\u001b[0;32m      1\u001b[0m \u001b[0mmyNum\u001b[0m \u001b[1;33m=\u001b[0m \u001b[1;33m[\u001b[0m\u001b[1;36m10\u001b[0m\u001b[1;33m,\u001b[0m \u001b[1;36m5\u001b[0m\u001b[1;33m,\u001b[0m \u001b[1;36m12\u001b[0m\u001b[1;33m,\u001b[0m \u001b[1;36m0\u001b[0m\u001b[1;33m,\u001b[0m \u001b[1;36m3.5\u001b[0m\u001b[1;33m,\u001b[0m \u001b[1;36m99.5\u001b[0m\u001b[1;33m,\u001b[0m \u001b[1;36m42\u001b[0m\u001b[1;33m]\u001b[0m\u001b[1;33m\u001b[0m\u001b[1;33m\u001b[0m\u001b[0m\n\u001b[1;32m----> 2\u001b[1;33m \u001b[1;33m[\u001b[0m\u001b[0mmin\u001b[0m\u001b[1;33m[\u001b[0m\u001b[0mmyNum\u001b[0m\u001b[1;33m]\u001b[0m\u001b[1;33m,\u001b[0m \u001b[0mmax\u001b[0m\u001b[1;33m[\u001b[0m\u001b[0mmyNum\u001b[0m\u001b[1;33m]\u001b[0m\u001b[1;33m]\u001b[0m\u001b[1;33m\u001b[0m\u001b[1;33m\u001b[0m\u001b[0m\n\u001b[0m",
      "\u001b[1;31mTypeError\u001b[0m: 'builtin_function_or_method' object is not subscriptable"
     ]
    }
   ],
   "source": [
    "myNum = [10, 5, 12, 0, 3.5, 99.5, 42]\n",
    "[min(myNum), max(myNum)]"
   ]
  },
  {
   "cell_type": "code",
   "execution_count": 123,
   "metadata": {},
   "outputs": [
    {
     "ename": "TypeError",
     "evalue": "'int' object is not callable",
     "output_type": "error",
     "traceback": [
      "\u001b[1;31m---------------------------------------------------------------------------\u001b[0m",
      "\u001b[1;31mTypeError\u001b[0m                                 Traceback (most recent call last)",
      "\u001b[1;32m<ipython-input-123-51b1bdf4811f>\u001b[0m in \u001b[0;36m<module>\u001b[1;34m\u001b[0m\n\u001b[0;32m      1\u001b[0m \u001b[0mmyStr\u001b[0m \u001b[1;33m=\u001b[0m \u001b[1;34m'zxyabc'\u001b[0m\u001b[1;33m\u001b[0m\u001b[1;33m\u001b[0m\u001b[0m\n\u001b[1;32m----> 2\u001b[1;33m \u001b[1;33m[\u001b[0m\u001b[0mmin\u001b[0m\u001b[1;33m(\u001b[0m\u001b[0mmyStr\u001b[0m\u001b[1;33m)\u001b[0m\u001b[1;33m,\u001b[0m \u001b[0mmax\u001b[0m\u001b[1;33m(\u001b[0m\u001b[0mmyStr\u001b[0m\u001b[1;33m)\u001b[0m\u001b[1;33m]\u001b[0m\u001b[1;33m\u001b[0m\u001b[1;33m\u001b[0m\u001b[0m\n\u001b[0m",
      "\u001b[1;31mTypeError\u001b[0m: 'int' object is not callable"
     ]
    }
   ],
   "source": [
    "myStr = 'zxyabc'\n",
    "[min(myStr), max(myStr)]"
   ]
  },
  {
   "cell_type": "code",
   "execution_count": 124,
   "metadata": {},
   "outputs": [
    {
     "data": {
      "text/plain": [
       "[10, 10]"
      ]
     },
     "execution_count": 124,
     "metadata": {},
     "output_type": "execute_result"
    }
   ],
   "source": [
    "[abs(10), abs(-10)]"
   ]
  },
  {
   "cell_type": "code",
   "execution_count": 126,
   "metadata": {},
   "outputs": [
    {
     "data": {
      "text/plain": [
       "55"
      ]
     },
     "execution_count": 126,
     "metadata": {},
     "output_type": "execute_result"
    }
   ],
   "source": [
    "sumList = [1,2,3,4,5,6,7,8,9,10]\n",
    "sum(sumList)"
   ]
  },
  {
   "cell_type": "code",
   "execution_count": 127,
   "metadata": {},
   "outputs": [
    {
     "data": {
      "text/plain": [
       "5"
      ]
     },
     "execution_count": 127,
     "metadata": {},
     "output_type": "execute_result"
    }
   ],
   "source": [
    "len('ab cd')"
   ]
  },
  {
   "cell_type": "code",
   "execution_count": 129,
   "metadata": {},
   "outputs": [
    {
     "data": {
      "text/plain": [
       "8"
      ]
     },
     "execution_count": 129,
     "metadata": {},
     "output_type": "execute_result"
    }
   ],
   "source": [
    "len([1,2,3,4,5,6,7 ,8])"
   ]
  },
  {
   "cell_type": "code",
   "execution_count": 130,
   "metadata": {},
   "outputs": [
    {
     "data": {
      "text/plain": [
       "8"
      ]
     },
     "execution_count": 130,
     "metadata": {},
     "output_type": "execute_result"
    }
   ],
   "source": [
    "len((1,2,3,4,5,6,7 ,8))"
   ]
  },
  {
   "cell_type": "code",
   "execution_count": 131,
   "metadata": {},
   "outputs": [
    {
     "data": {
      "text/plain": [
       "4"
      ]
     },
     "execution_count": 131,
     "metadata": {},
     "output_type": "execute_result"
    }
   ],
   "source": [
    "len({'a','b','c','d'})"
   ]
  },
  {
   "cell_type": "code",
   "execution_count": 132,
   "metadata": {},
   "outputs": [
    {
     "data": {
      "text/plain": [
       "3"
      ]
     },
     "execution_count": 132,
     "metadata": {},
     "output_type": "execute_result"
    }
   ],
   "source": [
    "len({1:'Thomas', 2:\"Edward\", 3:\"Henry\"})"
   ]
  },
  {
   "cell_type": "code",
   "execution_count": 137,
   "metadata": {},
   "outputs": [
    {
     "name": "stdout",
     "output_type": "stream",
     "text": [
      "통점:350, 평균:87.5\n"
     ]
    }
   ],
   "source": [
    "scores = [90, 80, 95, 85]\n",
    "\n",
    "score_sum = 0\n",
    "subject_num = 0\n",
    "for score in scores:\n",
    "    score_sum = score_sum+score #과목별 점수 모두 더하기\n",
    "    subject_num = subject_num+1\n",
    "    \n",
    "average = score_sum / subject_num\n",
    "print('통점:{0}, 평균:{1}'.format(score_sum, average))"
   ]
  },
  {
   "cell_type": "code",
   "execution_count": 138,
   "metadata": {},
   "outputs": [
    {
     "name": "stdout",
     "output_type": "stream",
     "text": [
      "총점:350, 평균:87.5\n"
     ]
    }
   ],
   "source": [
    "scores = [90, 80, 95, 85] # 과목별 시험 점수\n",
    "\n",
    "print(\"총점:{0}, 평균:{1}\".format(sum(scores), sum(scores)/len(scores)))"
   ]
  },
  {
   "cell_type": "code",
   "execution_count": 139,
   "metadata": {},
   "outputs": [
    {
     "name": "stdout",
     "output_type": "stream",
     "text": [
      "최하 점수:80, 최고 점수:95\n"
     ]
    }
   ],
   "source": [
    "print(\"최하 점수:{0}, 최고 점수:{1}\".format(min(scores), max(scores)))"
   ]
  },
  {
   "cell_type": "code",
   "execution_count": 136,
   "metadata": {},
   "outputs": [
    {
     "name": "stdout",
     "output_type": "stream",
     "text": [
      "Once deleted, variables cannot be recovered. Proceed (y/[n])? y\n"
     ]
    }
   ],
   "source": [
    "reset"
   ]
  },
  {
   "cell_type": "code",
   "execution_count": 140,
   "metadata": {},
   "outputs": [],
   "source": [
    "class BookReader:\n",
    "    name = str()\n",
    "    \n",
    "    def read_book():\n",
    "        print(name+'is reading Book!!')"
   ]
  },
  {
   "cell_type": "code",
   "execution_count": 147,
   "metadata": {},
   "outputs": [
    {
     "ename": "NameError",
     "evalue": "name 'redaer' is not defined",
     "output_type": "error",
     "traceback": [
      "\u001b[1;31m---------------------------------------------------------------------------\u001b[0m",
      "\u001b[1;31mNameError\u001b[0m                                 Traceback (most recent call last)",
      "\u001b[1;32m<ipython-input-147-c52a1ffd52b0>\u001b[0m in \u001b[0;36m<module>\u001b[1;34m\u001b[0m\n\u001b[0;32m      1\u001b[0m \u001b[0mreader\u001b[0m \u001b[1;33m=\u001b[0m \u001b[0mBookReader\u001b[0m\u001b[1;33m(\u001b[0m\u001b[1;33m)\u001b[0m\u001b[1;33m\u001b[0m\u001b[1;33m\u001b[0m\u001b[0m\n\u001b[1;32m----> 2\u001b[1;33m \u001b[0mredaer\u001b[0m\u001b[1;33m.\u001b[0m\u001b[0mname\u001b[0m \u001b[1;33m=\u001b[0m \u001b[1;34m'Jinsoo'\u001b[0m\u001b[1;33m\u001b[0m\u001b[1;33m\u001b[0m\u001b[0m\n\u001b[0m\u001b[0;32m      3\u001b[0m \u001b[0mreader\u001b[0m\u001b[1;33m.\u001b[0m\u001b[0mread_book\u001b[0m\u001b[1;33m(\u001b[0m\u001b[1;33m)\u001b[0m\u001b[1;33m\u001b[0m\u001b[1;33m\u001b[0m\u001b[0m\n",
      "\u001b[1;31mNameError\u001b[0m: name 'redaer' is not defined"
     ]
    }
   ],
   "source": [
    "reader = BookReader()\n",
    "redaer.name = 'Jinsoo'\n",
    "reader.read_book()"
   ]
  },
  {
   "cell_type": "code",
   "execution_count": 158,
   "metadata": {},
   "outputs": [],
   "source": [
    "class BookReader:\n",
    "    name = str()\n",
    "    \n",
    "    def read_book(self):\n",
    "        print(self.name +' is reading Book!!')"
   ]
  },
  {
   "cell_type": "code",
   "execution_count": 159,
   "metadata": {},
   "outputs": [
    {
     "name": "stdout",
     "output_type": "stream",
     "text": [
      "Jinsoo is reading Book!!\n"
     ]
    }
   ],
   "source": [
    "reader = BookReader()\n",
    "reader.name = 'Jinsoo'\n",
    "reader.read_book()"
   ]
  },
  {
   "cell_type": "code",
   "execution_count": 160,
   "metadata": {},
   "outputs": [],
   "source": [
    "class 빵틀:\n",
    "    모양 = str()    # 붕어, 잉어\n",
    "    반죽 = str()     # 밀가루, 찹쌀가루\n",
    "    앙꼬 = str()     # 팥, 슈크림\n",
    "    단가 = int()\n",
    "\n",
    "    def 굽기(self, 주문갯수):\n",
    "        # 한번에 최대 10개씩 굽는다.\n",
    "        # 한판 굽는데 걸리는 시간은 5분\n",
    "        굽는횟수 = (주문갯수-1)/10 + 1\n",
    "        완성시간 = int(굽는횟수) * 5\n",
    "        return 완성시간\n",
    "\n",
    "    def 가격(self, 주문갯수):\n",
    "        금액 = 주문갯수 * self.단가\n",
    "        return 금액\n",
    "    \n",
    "    def 주문(self, 주문갯수, 지불금액):\n",
    "        대기시간 = self.굽기(주문갯수)\n",
    "        주문금액 = self.가격(주문갯수)        \n",
    "        거스름돈 = 지불금액 - 주문금액\n",
    "        return 대기시간, 거스름돈"
   ]
  },
  {
   "cell_type": "code",
   "execution_count": 161,
   "metadata": {},
   "outputs": [],
   "source": [
    "붕어빵 = 빵틀()\n",
    "잉어빵 = 빵틀()"
   ]
  },
  {
   "cell_type": "code",
   "execution_count": 162,
   "metadata": {},
   "outputs": [],
   "source": [
    "붕어빵.모양 = '붕어'\n",
    "붕어빵.반죽 = '밀가루'\n",
    "붕어빵.앙꼬 = '팥'\n",
    "붕어빵.단가 = 300"
   ]
  },
  {
   "cell_type": "code",
   "execution_count": 163,
   "metadata": {},
   "outputs": [],
   "source": [
    "잉어빵.모양 = '황금잉어'\n",
    "잉어빵.반죽 = '찹쌀가루'\n",
    "잉어빵.앙꼬 = '슈크림'\n",
    "잉어빵.단가 = 600"
   ]
  },
  {
   "cell_type": "code",
   "execution_count": 164,
   "metadata": {},
   "outputs": [
    {
     "name": "stdout",
     "output_type": "stream",
     "text": [
      "붕어빵 20개를 주문하였고, 10000원을 지불하였습니다.\n",
      "--------------------------------------------------\n",
      "잔돈은 4000원 입니다. 10분만 기다려주세요.\n"
     ]
    }
   ],
   "source": [
    "order = 20\n",
    "payment = 10000\n",
    "\n",
    "wait_time, change = 붕어빵.주문(order, payment)\n",
    "shape = 붕어빵.모양\n",
    "print('{}빵 {}개를 주문하였고, {}원을 지불하였습니다.'.format(shape, order, payment))\n",
    "\n",
    "if change == 0:\n",
    "    message = '손님, {wt}분만 기다려주세요.'.format(wt=wait_time)\n",
    "elif change > 0:\n",
    "    message = '잔돈은 {ch}원 입니다. {wt}분만 기다려주세요.'.format(ch=change, wt=wait_time)\n",
    "elif change < 0:\n",
    "    message = '손님, 금액이 {ch}원 부족합니다.'.format(ch=-change)\n",
    "else:\n",
    "    message = 'Error'\n",
    "    \n",
    "print('-'*50)\n",
    "print(message)"
   ]
  },
  {
   "cell_type": "code",
   "execution_count": 165,
   "metadata": {},
   "outputs": [],
   "source": [
    "class Dog:\n",
    "    tricks = []\n",
    "    \n",
    "    def __init__(self, name):\n",
    "        self.name = name\n",
    "        \n",
    "    def add_trick(self, trick):\n",
    "        self.tricks.append(trick)"
   ]
  },
  {
   "cell_type": "code",
   "execution_count": 166,
   "metadata": {},
   "outputs": [],
   "source": [
    "dog1 = Dog('마음이')\n",
    "dog2 = Dog('진돌이')"
   ]
  },
  {
   "cell_type": "code",
   "execution_count": 167,
   "metadata": {},
   "outputs": [],
   "source": [
    "dog1.add_trick('구르기')\n",
    "dog2.add_trick('두발로 서기')\n",
    "dog2.add_trick('죽은척 하기')"
   ]
  },
  {
   "cell_type": "code",
   "execution_count": 168,
   "metadata": {},
   "outputs": [
    {
     "name": "stdout",
     "output_type": "stream",
     "text": [
      "마음이 : ['구르기', '두발로 서기', '죽은척 하기']\n",
      "진돌이 : ['구르기', '두발로 서기', '죽은척 하기']\n"
     ]
    }
   ],
   "source": [
    "print(dog1.name, ':', dog1.tricks)\n",
    "print(dog2.name, ':', dog2.tricks)"
   ]
  },
  {
   "cell_type": "code",
   "execution_count": 169,
   "metadata": {},
   "outputs": [
    {
     "name": "stdout",
     "output_type": "stream",
     "text": [
      "하늘이 : ['구르기']\n",
      "야옹이 : ['두발로 서기', '죽은척 하기']\n"
     ]
    }
   ],
   "source": [
    "# 인스턴스 변수(인스턴스간 공유 안됨)\n",
    "class Cat:\n",
    "    def __init__(self, name):\n",
    "        self.name = name\n",
    "        self.tricks = []  # 인스턴스 변수 선언\n",
    "\n",
    "    def add_trick(self, trick):\n",
    "        self.tricks.append(trick)  # 인스턴스 변수에 값 추가\n",
    "\n",
    "\n",
    "cat1 = Cat('하늘이')\n",
    "cat2 = Cat('야옹이')\n",
    "\n",
    "cat1.add_trick('구르기')\n",
    "cat2.add_trick('두발로 서기')\n",
    "cat2.add_trick('죽은척 하기')\n",
    "\n",
    "print(cat1.name, ':', cat1.tricks)\n",
    "print(cat2.name, ':', cat2.tricks)"
   ]
  },
  {
   "cell_type": "code",
   "execution_count": 170,
   "metadata": {},
   "outputs": [
    {
     "name": "stdout",
     "output_type": "stream",
     "text": [
      "['_KpopGroup__country', '__class__', '__delattr__', '__dict__', '__dir__', '__doc__', '__eq__', '__format__', '__ge__', '__getattribute__', '__gt__', '__hash__', '__init__', '__init_subclass__', '__le__', '__lt__', '__module__', '__ne__', '__new__', '__reduce__', '__reduce_ex__', '__repr__', '__setattr__', '__sizeof__', '__str__', '__subclasshook__', '__weakref__']\n"
     ]
    }
   ],
   "source": [
    "# 이름장식 Name Mangling  : __가 있는 것에 한하여 이름을 변경해 버리는 이름 장식 기법\n",
    "# 변형된 규칙 : _[클래스명]__[변수명]\n",
    "class KpopGroup:\n",
    "    __country = 'Korea'\n",
    "\n",
    "result = dir(KpopGroup)\n",
    "print(result)\n",
    "\n",
    "# 클래스 내부 변형변수는 정의시 사용했던 변수명으로는 접근이 불가능\n",
    "# KpopGroup.__country"
   ]
  },
  {
   "cell_type": "code",
   "execution_count": 171,
   "metadata": {},
   "outputs": [
    {
     "name": "stdout",
     "output_type": "stream",
     "text": [
      "1 _KpopGroup__country\n",
      "2 __class__\n",
      "3 __delattr__\n",
      "4 __dict__\n",
      "5 __dir__\n",
      "6 __doc__\n",
      "7 __eq__\n",
      "8 __format__\n",
      "9 __ge__\n",
      "10 __getattribute__\n",
      "11 __gt__\n",
      "12 __hash__\n",
      "13 __init__\n",
      "14 __init_subclass__\n",
      "15 __le__\n",
      "16 __lt__\n",
      "17 __module__\n",
      "18 __ne__\n",
      "19 __new__\n",
      "20 __reduce__\n",
      "21 __reduce_ex__\n",
      "22 __repr__\n",
      "23 __setattr__\n",
      "24 __sizeof__\n",
      "25 __str__\n",
      "26 __subclasshook__\n",
      "27 __weakref__\n"
     ]
    }
   ],
   "source": [
    "num = 0\n",
    "for internal_element in result:\n",
    "    num += 1\n",
    "    print(num, internal_element)"
   ]
  },
  {
   "cell_type": "code",
   "execution_count": 172,
   "metadata": {},
   "outputs": [],
   "source": [
    "class Animal:\n",
    "    tribe = '동물'\n",
    "    def __init__(self, name):\n",
    "        self.name = name\n",
    "\n",
    "    def getInfo(self):\n",
    "        print('나는 %s이고, %s입니다.'%(self.name, self.tribe))\n",
    "\n",
    "class Carnivore(Animal):\n",
    "    def __init__(self, name):\n",
    "        self.name = name\n",
    "        self.tribe = '육식동물'\n",
    "\n",
    "    def favoriteFood(self):\n",
    "        print('나는 고기를 좋아합니다.')\n",
    "\n",
    "class Herbivore(Animal):\n",
    "    def __init__(self, name):\n",
    "        self.name = name\n",
    "        self.tribe = '초식동물'\n",
    "\n",
    "    def favoriteFood(self):\n",
    "        print('나는 풀을 좋아합니다.')"
   ]
  },
  {
   "cell_type": "code",
   "execution_count": 173,
   "metadata": {},
   "outputs": [
    {
     "name": "stdout",
     "output_type": "stream",
     "text": [
      "나는 호랑이이고, 육식동물입니다.\n",
      "나는 고기를 좋아합니다.\n"
     ]
    }
   ],
   "source": [
    "tiger = Carnivore('호랑이')\n",
    "tiger.getInfo()\n",
    "tiger.favoriteFood()"
   ]
  },
  {
   "cell_type": "code",
   "execution_count": 174,
   "metadata": {},
   "outputs": [
    {
     "name": "stdout",
     "output_type": "stream",
     "text": [
      "나는 토끼이고, 초식동물입니다.\n",
      "나는 풀을 좋아합니다.\n"
     ]
    }
   ],
   "source": [
    "rabit = Herbivore('토끼')\n",
    "rabit.getInfo()\n",
    "rabit.favoriteFood()"
   ]
  },
  {
   "cell_type": "code",
   "execution_count": 175,
   "metadata": {},
   "outputs": [],
   "source": [
    "#  Developer 부모 클래스 선언\n",
    "class Developer:\n",
    "    def __init__(self, name):\n",
    "        self.name = name\n",
    "\n",
    "    def coding(self):\n",
    "        print(self.name + ' is developer!!')\n",
    "\n",
    "\n",
    "# PythonDeveloper 자식 클래스 선언\n",
    "class PythonDeveloper(Developer):\n",
    "    def coding(self):\n",
    "        print(self.name + ' is Python developler!!')\n",
    "\n",
    "\n",
    "# JavaDeveloper 자식 클래스 선언\n",
    "class JavaDeveloper(Developer):\n",
    "    def coding(self):\n",
    "        print(self.name + ' is Java developler!!')\n",
    "\n",
    "\n",
    "# CPPDeveloper 자식 클래스 선언\n",
    "class CPPDeveloper(Developer):\n",
    "    def coding(self):\n",
    "        print(self.name + ' is C++ developler!!')"
   ]
  },
  {
   "cell_type": "code",
   "execution_count": 176,
   "metadata": {},
   "outputs": [
    {
     "name": "stdout",
     "output_type": "stream",
     "text": [
      "찬영이 is Python developler!!\n",
      "준영이 is Java developler!!\n",
      "채영이 is C++ developler!!\n"
     ]
    }
   ],
   "source": [
    "pd = PythonDeveloper('찬영이')\n",
    "jd = JavaDeveloper('준영이')\n",
    "cd = CPPDeveloper('채영이')\n",
    "\n",
    "pd.coding()\n",
    "jd.coding()\n",
    "cd.coding()"
   ]
  },
  {
   "cell_type": "code",
   "execution_count": 178,
   "metadata": {},
   "outputs": [],
   "source": [
    "# Unit 부모클래스 선언\n",
    "class Unit:\n",
    "    def __init__(self, name, energy, is_fly):\n",
    "        self.name = name\n",
    "        self.energy = energy\n",
    "        self.is_fly = is_fly\n",
    "        self.is_alive = True\n",
    "        \n",
    "    def get_tribe(self):\n",
    "        print(self.name+ ' is a basic tribe!!')\n",
    "        \n",
    "    def get_energy(self):\n",
    "        if self.energy > 0:\n",
    "            print(self.name + '의 현재 에너지는 ', self.energy, '입니다!')\n",
    "        else:\n",
    "            self.is_alive = False\n",
    "            print(self.name + ' 유닛은 전사했습니다.ㅠㅠ')\n",
    "            \n",
    "class Terran(Unit):\n",
    "    def get_tribe(self):\n",
    "        print(self.name + ' is a Terran!!')\n",
    "        \n",
    "    def be_attacked(self):\n",
    "        self.energy -= 3\n",
    "        \n",
    "class Protoss(Unit):\n",
    "    def get_tribe(self):\n",
    "        print(self.name + ' is a Protoss!!')\n",
    "        \n",
    "    def be_attacked(self):\n",
    "        self.energy -= 2\n",
    "        \n",
    "class Zerg(Unit):\n",
    "    def get_tribe(self):\n",
    "        print(self.name + ' is a Zerg!!')\n",
    "        \n",
    "    def be_attacked(self):\n",
    "        self.energy -= 4"
   ]
  },
  {
   "cell_type": "code",
   "execution_count": 186,
   "metadata": {},
   "outputs": [
    {
     "data": {
      "application/vnd.jupyter.widget-view+json": {
       "model_id": "ff062d057d914f99b5049887e3a59d01",
       "version_major": 2,
       "version_minor": 0
      },
      "text/plain": [
       "HBox(children=(IntProgress(value=0, max=5), HTML(value='')))"
      ]
     },
     "metadata": {},
     "output_type": "display_data"
    },
    {
     "name": "stdout",
     "output_type": "stream",
     "text": [
      "게임 시작, 유닛의 에너지는 다음과 같습니다!! \n",
      "--------------------------------------------------\n",
      "마린의 현재 에너지는  15 입니다!\n",
      "커세어의 현재 에너지는  20 입니다!\n",
      "히드라의 현재 에너지는  10 입니다!\n",
      "\n",
      "유닛간에 1차 공방전이 이루어졌습니다! \n",
      "--------------------------------------------------\n",
      "마린의 현재 에너지는  15 입니다!\n",
      "커세어의 현재 에너지는  20 입니다!\n",
      "히드라의 현재 에너지는  10 입니다!\n",
      "\n",
      "유닛간에 2차 공방전이 이루어졌습니다! \n",
      "--------------------------------------------------\n",
      "마린의 현재 에너지는  15 입니다!\n",
      "커세어의 현재 에너지는  20 입니다!\n",
      "히드라의 현재 에너지는  10 입니다!\n",
      "\n",
      "유닛간에 3차 공방전이 이루어졌습니다! \n",
      "--------------------------------------------------\n",
      "마린의 현재 에너지는  15 입니다!\n",
      "커세어의 현재 에너지는  20 입니다!\n",
      "히드라의 현재 에너지는  10 입니다!\n",
      "\n",
      "유닛간에 4차 공방전이 이루어졌습니다! \n",
      "--------------------------------------------------\n",
      "마린의 현재 에너지는  15 입니다!\n",
      "커세어의 현재 에너지는  20 입니다!\n",
      "히드라의 현재 에너지는  10 입니다!\n",
      "\n",
      "================================================== \n",
      "GG, 게임이 종료되었습니다 !!!\n"
     ]
    }
   ],
   "source": [
    "import time\n",
    "from tqdm import tqdm_notebook\n",
    "\n",
    "# 종족별 유닛 생성\n",
    "marine = Terran('마린', 15, False)\n",
    "corsair = Protoss('커세어', 20, True)\n",
    "hydra = Zerg('히드라', 10, False)\n",
    "\n",
    "for x in tqdm_notebook(range(5)):\n",
    "    if x == 0:\n",
    "        print('게임 시작, 유닛의 에너지는 다음과 같습니다!! \\n' + '-' * 50)\n",
    "        marine.get_energy()\n",
    "        corsair.get_energy()\n",
    "        hydra.get_energy()\n",
    "        time.sleep(2)\n",
    "        continue\n",
    "\n",
    "        marine.be_attactted()\n",
    "        corsair.be_attactted()\n",
    "        hydra.be_attactted()\n",
    "\n",
    "    print('\\n유닛간에 %d차 공방전이 이루어졌습니다! \\n' % (x) + '-' * 50)\n",
    "    time.sleep(1)\n",
    "    marine.get_energy();\n",
    "    time.sleep(1)\n",
    "    corsair.get_energy();\n",
    "    time.sleep(1)\n",
    "    hydra.get_energy();\n",
    "    time.sleep(1)\n",
    "\n",
    "    if (marine.is_alive & corsair.is_alive & hydra.is_alive):\n",
    "            time.sleep(1)\n",
    "    else:\n",
    "        break\n",
    "\n",
    "print('=' * 50, '\\nGG, 게임이 종료되었습니다 !!!')"
   ]
  },
  {
   "cell_type": "code",
   "execution_count": null,
   "metadata": {},
   "outputs": [],
   "source": []
  },
  {
   "cell_type": "code",
   "execution_count": null,
   "metadata": {},
   "outputs": [],
   "source": []
  }
 ],
 "metadata": {
  "kernelspec": {
   "display_name": "Python 3",
   "language": "python",
   "name": "python3"
  },
  "language_info": {
   "codemirror_mode": {
    "name": "ipython",
    "version": 3
   },
   "file_extension": ".py",
   "mimetype": "text/x-python",
   "name": "python",
   "nbconvert_exporter": "python",
   "pygments_lexer": "ipython3",
   "version": "3.7.3"
  }
 },
 "nbformat": 4,
 "nbformat_minor": 2
}
